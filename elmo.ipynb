{
 "cells": [
  {
   "cell_type": "code",
   "execution_count": 1,
   "metadata": {},
   "outputs": [],
   "source": [
    "import torch\n",
    "from torch import nn\n",
    "from torch.utils.data import Dataset, DataLoader\n",
    "from tqdm import tqdm\n",
    "import string"
   ]
  },
  {
   "cell_type": "code",
   "execution_count": 2,
   "metadata": {},
   "outputs": [
    {
     "name": "stdout",
     "output_type": "stream",
     "text": [
      "torch.Size([32, 100, 10])\n",
      "torch.Size([32, 100, 10, 300])\n",
      "torch.Size([32, 300, 100, 10])\n",
      "torch.Size([32, 256, 100, 4])\n",
      "torch.Size([32, 100, 256])\n"
     ]
    }
   ],
   "source": [
    "x = torch.arange(32 * 100 * 10).view(32, 100, 10)\n",
    "print(x.shape)\n",
    "embed = nn.Embedding(32 * 100 * 10, 300)\n",
    "e = embed(x)\n",
    "print(e.shape)\n",
    "# in_channels is embed dim\n",
    "c = nn.Conv2d(in_channels=300, out_channels=256, kernel_size=(1, 7))\n",
    "e = e.permute(0, 3, 1, 2)\n",
    "print(e.shape)\n",
    "out = c(e)\n",
    "print(out.shape)\n",
    "mp = nn.MaxPool2d(kernel_size=(1, out.shape[-1]))\n",
    "out_mp = mp(out).squeeze(-1).permute(0, 2, 1)\n",
    "print(out_mp.shape)"
   ]
  },
  {
   "cell_type": "code",
   "execution_count": 3,
   "metadata": {},
   "outputs": [],
   "source": [
    "class ELMoPretrainDataset(Dataset):\n",
    "\n",
    "    def __init__(self, dataset_path: str, seq_len: int):\n",
    "        text = open(dataset_path, \"r\").readlines()\n",
    "        self.seq_len = seq_len\n",
    "        self.text, self.char2idx, self.idx2char, self.word2idx, self.idx2word = self.preprocess(text)\n",
    "        self.tokenized_chars, self.tokenized_words = self.tokenize(self.text)\n",
    "\n",
    "    def tokenize(self, text: list[str]) -> list[list[int]]:\n",
    "        char_tokenize = [[self.char2idx[char] for char in word] for word in text]\n",
    "        word_tokenize = [self.word2idx[word] for word in text]\n",
    "        return char_tokenize, word_tokenize\n",
    "    \n",
    "    def pad(self, sequence: list[list[int]]):\n",
    "        max_word_len = len(max(sequence, key=lambda x: len(x)))\n",
    "        for i in range(len(sequence)):\n",
    "            pad_len = max_word_len - len(sequence[i])\n",
    "            front_pad = pad_len // 2\n",
    "            back_pad = pad_len - front_pad\n",
    "            sequence[i] = ([0] * front_pad) + sequence[i] + ([0] * back_pad)\n",
    "\n",
    "    def preprocess(self, text: list[str]) -> list[str]:\n",
    "        to_remove = []\n",
    "        for i, line in enumerate(text):\n",
    "            if line == \" \\n\":\n",
    "                to_remove.append(i)\n",
    "            elif \"=\" in line:\n",
    "                to_remove.append(i)\n",
    "\n",
    "        for idx in to_remove[::-1]:\n",
    "            del text[idx]\n",
    "        \n",
    "        text = \" \".join(text).lower()\n",
    "        text = text.translate(str.maketrans('', '', '!\"#$%&\\'()*+-./:=?@[\\\\]^_`{|}~'))\n",
    "        text = \"\".join([i for i in text if (not i.isdigit()) and i.isascii()])\n",
    "\n",
    "        char2idx = {char: i + 1 for i, char in enumerate(sorted(list(set(list(text)))))}\n",
    "        char2idx[\"<pad>\"] = 0\n",
    "        idx2char = {value: key for key, value in char2idx.items()}\n",
    "        text = text.split()\n",
    "\n",
    "        word2idx = {word: i for i, word in enumerate(sorted(list(set(text))))}\n",
    "        idx2word = {value: key for key, value in word2idx.items()}\n",
    "        return text, char2idx, idx2char, word2idx, idx2word\n",
    "    \n",
    "    def __len__(self) -> int:\n",
    "        return len(self.text) - self.seq_len\n",
    "    \n",
    "    def __getitem__(self, idx):\n",
    "        src, tgt = self.tokenized_chars[idx: idx + self.seq_len], self.tokenized_words[idx+1: idx + self.seq_len + 1]\n",
    "        self.pad(src)\n",
    "        return torch.tensor(src), torch.tensor(tgt)"
   ]
  },
  {
   "cell_type": "code",
   "execution_count": 4,
   "metadata": {},
   "outputs": [],
   "source": [
    "class PadCollate:\n",
    "\n",
    "    def __init__(self, dim=0):\n",
    "        self.dim = dim\n",
    "\n",
    "    def __call__(self, batch):\n",
    "        max_len = max(batch, key=lambda x: x[0].shape[-1])[0].shape[-1]\n",
    "        seq_len = batch[0][1].shape[0]\n",
    "        srcs, tgts = [], []\n",
    "        for src, tgt in batch:\n",
    "            pad_len = max_len - src.shape[-1]\n",
    "            front_pad = pad_len // 2\n",
    "            back_pad = pad_len - front_pad\n",
    "            srcs.append(torch.cat([torch.zeros(seq_len, front_pad), src, torch.zeros(seq_len, back_pad)], dim=-1))\n",
    "            tgts.append(tgt)\n",
    "        return torch.stack(srcs).type(torch.long), torch.stack(tgts)"
   ]
  },
  {
   "cell_type": "code",
   "execution_count": 5,
   "metadata": {},
   "outputs": [],
   "source": [
    "d = ELMoPretrainDataset(\"wikitext-2/wiki.train.tokens\", 100)\n",
    "loader = DataLoader(d, batch_size=32, shuffle=True, collate_fn=PadCollate())"
   ]
  },
  {
   "cell_type": "code",
   "execution_count": 6,
   "metadata": {},
   "outputs": [
    {
     "name": "stderr",
     "output_type": "stream",
     "text": [
      "100%|██████████| 55723/55723 [05:02<00:00, 184.42it/s]\n"
     ]
    }
   ],
   "source": [
    "for src, tgt in tqdm(loader, total=len(loader)):\n",
    "    pass"
   ]
  }
 ],
 "metadata": {
  "kernelspec": {
   "display_name": "ml",
   "language": "python",
   "name": "python3"
  },
  "language_info": {
   "codemirror_mode": {
    "name": "ipython",
    "version": 3
   },
   "file_extension": ".py",
   "mimetype": "text/x-python",
   "name": "python",
   "nbconvert_exporter": "python",
   "pygments_lexer": "ipython3",
   "version": "3.9.13"
  },
  "orig_nbformat": 4
 },
 "nbformat": 4,
 "nbformat_minor": 2
}
