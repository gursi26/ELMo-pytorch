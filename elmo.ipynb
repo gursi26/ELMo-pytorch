{
 "cells": [
  {
   "cell_type": "code",
   "execution_count": null,
   "metadata": {},
   "outputs": [],
   "source": [
    "import torch\n",
    "from torch import nn, optim\n",
    "from torch.utils.data import Dataset, DataLoader\n",
    "import torch.nn.functional as F\n",
    "from tqdm import tqdm\n",
    "import string\n",
    "\n",
    "from dataset import ELMoPretrainDataset, PadCollate\n",
    "from model import ELMoPretrainModel"
   ]
  },
  {
   "cell_type": "code",
   "execution_count": null,
   "metadata": {},
   "outputs": [],
   "source": [
    "dataset = ELMoPretrainDataset(\"wikitext-2/wiki.train.tokens\", seq_len=100)\n",
    "loader = DataLoader(dataset, batch_size=32, shuffle=True, collate_fn=PadCollate())"
   ]
  },
  {
   "cell_type": "code",
   "execution_count": null,
   "metadata": {},
   "outputs": [],
   "source": [
    "model = ELMoPretrainModel(len(dataset.char2idx), 128, len(dataset.word2idx)).to(\"mps\")\n",
    "crit = nn.CrossEntropyLoss()\n",
    "opt = optim.Adam(model.parameters(), 3e-6)\n",
    "EPOCHS = 100"
   ]
  },
  {
   "cell_type": "code",
   "execution_count": null,
   "metadata": {},
   "outputs": [],
   "source": [
    "for e in range(EPOCHS):\n",
    "    loop = tqdm(loader, total=len(loader), position=0)\n",
    "    loop.set_description(f\"Epoch : [{e}/{EPOCHS}]\")\n",
    "    for src, tgt in loop:\n",
    "        src, tgt = src.to(\"mps\"), tgt.to(\"mps\")\n",
    "        opt.zero_grad()\n",
    "        yhat = model(src)\n",
    "        loss = crit(yhat.view(-1, yhat.shape[-1]), tgt.view(-1))\n",
    "        loss.backward()\n",
    "        nn.utils.clip_grad_norm_(model.parameters(), 5.0)\n",
    "        opt.step()\n",
    "        print(loss.item())\n",
    "        loop.set_postfix(loss = loss.item())"
   ]
  }
 ],
 "metadata": {
  "kernelspec": {
   "display_name": "ml",
   "language": "python",
   "name": "python3"
  },
  "language_info": {
   "codemirror_mode": {
    "name": "ipython",
    "version": 3
   },
   "file_extension": ".py",
   "mimetype": "text/x-python",
   "name": "python",
   "nbconvert_exporter": "python",
   "pygments_lexer": "ipython3",
   "version": "3.9.13"
  },
  "orig_nbformat": 4
 },
 "nbformat": 4,
 "nbformat_minor": 2
}
